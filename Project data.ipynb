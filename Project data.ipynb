{
 "cells": [
  {
   "cell_type": "code",
   "execution_count": null,
   "metadata": {},
   "outputs": [],
   "source": []
  },
  {
   "cell_type": "code",
   "execution_count": 3,
   "metadata": {},
   "outputs": [],
   "source": [
    "import os\n",
    "os.chdir(r\"/Users/efiathieniti/Documents/GitHub/mofax/\")\n",
    "import mofax as mfx"
   ]
  },
  {
   "cell_type": "code",
   "execution_count": 17,
   "metadata": {},
   "outputs": [
    {
     "ename": "TypeError",
     "evalue": "get_data() got an unexpected keyword argument 'view'",
     "output_type": "error",
     "traceback": [
      "\u001b[0;31m---------------------------------------------------------------------------\u001b[0m",
      "\u001b[0;31mTypeError\u001b[0m                                 Traceback (most recent call last)",
      "\u001b[0;32m<ipython-input-17-84966f944853>\u001b[0m in \u001b[0;36m<module>\u001b[0;34m\u001b[0m\n\u001b[1;32m      4\u001b[0m \u001b[0;34m\u001b[0m\u001b[0m\n\u001b[1;32m      5\u001b[0m \u001b[0;34m\u001b[0m\u001b[0m\n\u001b[0;32m----> 6\u001b[0;31m \u001b[0mmodel\u001b[0m\u001b[0;34m.\u001b[0m\u001b[0mproject_data\u001b[0m\u001b[0;34m(\u001b[0m\u001b[0mmodel\u001b[0m\u001b[0;34m.\u001b[0m\u001b[0mget_data\u001b[0m\u001b[0;34m(\u001b[0m\u001b[0mview\u001b[0m\u001b[0;34m=\u001b[0m\u001b[0;32mNone\u001b[0m\u001b[0;34m,\u001b[0m\u001b[0mdf\u001b[0m\u001b[0;34m=\u001b[0m\u001b[0;32mTrue\u001b[0m\u001b[0;34m)\u001b[0m\u001b[0;34m)\u001b[0m\u001b[0;34m\u001b[0m\u001b[0;34m\u001b[0m\u001b[0m\n\u001b[0m",
      "\u001b[0;31mTypeError\u001b[0m: get_data() got an unexpected keyword argument 'view'"
     ]
    }
   ],
   "source": [
    "model = mfx.mofa_model('model.hdf5')\n",
    "factors = model.get_factors()\n",
    "factors.shape\n",
    "\n",
    "\n",
    "model.project_data(model.get_data(view=None,df=True))"
   ]
  },
  {
   "cell_type": "code",
   "execution_count": 24,
   "metadata": {},
   "outputs": [
    {
     "name": "stdout",
     "output_type": "stream",
     "text": [
      "<HDF5 dataset \"group1\": shape (16, 2348), type \"<f8\">\n"
     ]
    },
    {
     "data": {
      "text/plain": [
       "array([[-1.63240398],\n",
       "       [-0.24525191],\n",
       "       [-1.51323842],\n",
       "       [-1.97963867],\n",
       "       [-0.65572904],\n",
       "       [ 3.74007989],\n",
       "       [ 0.19472899],\n",
       "       [ 0.27464911],\n",
       "       [-0.16642893],\n",
       "       [ 0.12516886],\n",
       "       [-0.70696714],\n",
       "       [ 0.13503169],\n",
       "       [ 0.85417234],\n",
       "       [ 0.5224852 ],\n",
       "       [ 0.51731403],\n",
       "       [ 0.536028  ]])"
      ]
     },
     "execution_count": 24,
     "metadata": {},
     "output_type": "execute_result"
    }
   ],
   "source": [
    "print(mrnas)\n",
    "model.get_weights(views=None).shape\n",
    "model.get_factors(factors=1)\n"
   ]
  },
  {
   "cell_type": "code",
   "execution_count": null,
   "metadata": {},
   "outputs": [],
   "source": [
    "model.get_interpolated_factors"
   ]
  },
  {
   "cell_type": "code",
   "execution_count": 25,
   "metadata": {},
   "outputs": [
    {
     "name": "stdout",
     "output_type": "stream",
     "text": [
      "<HDF5 dataset \"group1\": shape (16, 104), type \"<f8\">\n"
     ]
    },
    {
     "ename": "ValueError",
     "evalue": "setting an array element with a sequence",
     "output_type": "error",
     "traceback": [
      "\u001b[0;31m---------------------------------------------------------------------------\u001b[0m",
      "\u001b[0;31mValueError\u001b[0m                                Traceback (most recent call last)",
      "\u001b[0;32m<ipython-input-25-2e1d3312dd45>\u001b[0m in \u001b[0;36m<module>\u001b[0;34m\u001b[0m\n\u001b[1;32m      2\u001b[0m \u001b[0mproteomics\u001b[0m\u001b[0;34m=\u001b[0m\u001b[0mmodel\u001b[0m\u001b[0;34m.\u001b[0m\u001b[0mdata\u001b[0m\u001b[0;34m[\u001b[0m\u001b[0;34m'proteomics'\u001b[0m\u001b[0;34m]\u001b[0m\u001b[0;34m[\u001b[0m\u001b[0;34m'group1'\u001b[0m\u001b[0;34m]\u001b[0m\u001b[0;34m\u001b[0m\u001b[0;34m\u001b[0m\u001b[0m\n\u001b[1;32m      3\u001b[0m \u001b[0mprint\u001b[0m\u001b[0;34m(\u001b[0m\u001b[0mproteomics\u001b[0m\u001b[0;34m)\u001b[0m\u001b[0;34m\u001b[0m\u001b[0;34m\u001b[0m\u001b[0m\n\u001b[0;32m----> 4\u001b[0;31m \u001b[0mmodel\u001b[0m\u001b[0;34m.\u001b[0m\u001b[0mproject_data\u001b[0m\u001b[0;34m(\u001b[0m\u001b[0mmrnas\u001b[0m\u001b[0;34m,\u001b[0m\u001b[0mview\u001b[0m\u001b[0;34m=\u001b[0m\u001b[0;32mNone\u001b[0m\u001b[0;34m,\u001b[0m \u001b[0mfactors\u001b[0m\u001b[0;34m=\u001b[0m\u001b[0;36m1\u001b[0m\u001b[0;34m)\u001b[0m\u001b[0;34m\u001b[0m\u001b[0;34m\u001b[0m\u001b[0m\n\u001b[0m",
      "\u001b[0;32m~/anaconda3/lib/python3.8/site-packages/mofax/core.py\u001b[0m in \u001b[0;36mproject_data\u001b[0;34m(self, data, view, factors, df, feature_intersection)\u001b[0m\n\u001b[1;32m   1356\u001b[0m \u001b[0;34m\u001b[0m\u001b[0m\n\u001b[1;32m   1357\u001b[0m         \u001b[0;31m# Predict Z for the provided data\u001b[0m\u001b[0;34m\u001b[0m\u001b[0;34m\u001b[0m\u001b[0;34m\u001b[0m\u001b[0m\n\u001b[0;32m-> 1358\u001b[0;31m         \u001b[0mzpred\u001b[0m \u001b[0;34m=\u001b[0m \u001b[0mnp\u001b[0m\u001b[0;34m.\u001b[0m\u001b[0mdot\u001b[0m\u001b[0;34m(\u001b[0m\u001b[0mdata\u001b[0m\u001b[0;34m,\u001b[0m \u001b[0mwinv\u001b[0m\u001b[0;34m.\u001b[0m\u001b[0mT\u001b[0m\u001b[0;34m)\u001b[0m\u001b[0;34m\u001b[0m\u001b[0;34m\u001b[0m\u001b[0m\n\u001b[0m\u001b[1;32m   1359\u001b[0m \u001b[0;34m\u001b[0m\u001b[0m\n\u001b[1;32m   1360\u001b[0m         \u001b[0;32mif\u001b[0m \u001b[0mdf\u001b[0m\u001b[0;34m:\u001b[0m\u001b[0;34m\u001b[0m\u001b[0;34m\u001b[0m\u001b[0m\n",
      "\u001b[0;32m<__array_function__ internals>\u001b[0m in \u001b[0;36mdot\u001b[0;34m(*args, **kwargs)\u001b[0m\n",
      "\u001b[0;31mValueError\u001b[0m: setting an array element with a sequence"
     ]
    }
   ],
   "source": [
    "mrnas=model.data['mRNA']['group1']\n",
    "proteomics=model.data['proteomics']['group1']\n",
    "print(proteomics)\n",
    "model.project_data(mrnas,view=None, factors=1)"
   ]
  },
  {
   "cell_type": "code",
   "execution_count": 4,
   "metadata": {},
   "outputs": [
    {
     "name": "stdout",
     "output_type": "stream",
     "text": [
      "[-3.43688071  5.96188385 -7.44958926 ... -0.30937831  1.68557426\n",
      " -1.1565602 ]\n",
      "[ 1.79016409  0.46523379  3.64917318 ... -1.51499574  0.39507386\n",
      "  0.51519048]\n",
      "[ 2.28287685  0.96811456 -6.45478701 ... -0.02695027  1.39805428\n",
      "  0.12353206]\n",
      "[-6.65680531  1.07319382 -6.13486552 ... -1.48255196  1.17461062\n",
      " -0.76027109]\n",
      "[ 0.42900838  5.19747234 -6.20900419 ... -0.69282762 -1.41487851\n",
      "  0.18316665]\n",
      "[-13.74560948  -3.58703615  -1.45831031 ...   0.62158864   2.71838187\n",
      "  -3.85285995]\n",
      "[ 3.14460062  0.08043436  1.79711621 ...  0.90187472 -1.0141504\n",
      "  0.59218293]\n",
      "[ 3.28226181 -4.94397339  3.79016032 ... -2.69380158 -2.36321284\n",
      "  1.63589368]\n",
      "[ 1.7000981   1.24845247  1.34361238 ...  0.12997755  0.00310495\n",
      " -0.18342922]\n",
      "[ 2.63430913  2.31595777  3.1537669  ...  1.78352043 -0.28505501\n",
      "  0.95110514]\n",
      "[ 0.4760009  -1.81828056  1.20191869 ... -2.13416148 -0.72156157\n",
      " -1.25326517]\n",
      "[ 0.73970515 -6.01892234  1.11635899 ...  0.87505121  0.11930082\n",
      " -0.7237883 ]\n",
      "[ 2.71059903 -7.61205428  3.72584364 ...  1.70685589 -1.73469234\n",
      "  0.583314  ]\n",
      "[1.94350079 6.78368425 1.40685366 ... 1.33164356 1.06482371 0.61601526]\n",
      "[ 1.20216669 -1.84135436  3.31761283 ...  0.54770018 -0.11233807\n",
      "  1.77430267]\n",
      "[ 1.50400395  1.72719387  3.2041395  ...  0.95645478 -0.91303562\n",
      "  0.95547105]\n"
     ]
    }
   ],
   "source": [
    "for row in model.data['mRNA']['group1']:\n",
    "    print(row)"
   ]
  },
  {
   "cell_type": "code",
   "execution_count": null,
   "metadata": {},
   "outputs": [],
   "source": []
  }
 ],
 "metadata": {
  "kernelspec": {
   "display_name": "Python 3",
   "language": "python",
   "name": "python3"
  },
  "language_info": {
   "codemirror_mode": {
    "name": "ipython",
    "version": 3
   },
   "file_extension": ".py",
   "mimetype": "text/x-python",
   "name": "python",
   "nbconvert_exporter": "python",
   "pygments_lexer": "ipython3",
   "version": "3.8.5"
  }
 },
 "nbformat": 4,
 "nbformat_minor": 4
}
